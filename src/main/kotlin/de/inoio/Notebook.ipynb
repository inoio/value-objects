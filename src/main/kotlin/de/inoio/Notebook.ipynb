{
 "cells": [
  {
   "metadata": {
    "ExecuteTime": {
     "end_time": "2024-12-03T16:22:34.743774714Z",
     "start_time": "2024-12-03T16:22:34.619796440Z"
    }
   },
   "cell_type": "code",
   "source": [
    "import com.fasterxml.jackson.annotation.JsonValue\n",
    "import com.fasterxml.jackson.module.kotlin.jacksonObjectMapper\n",
    "\n",
    "object ValueObject {\n",
    "\n",
    "    data class PersonId(\n",
    "        @JsonValue\n",
    "        val value: Int\n",
    "    )\n",
    "\n",
    "    data class Person(\n",
    "        val id: PersonId,\n",
    "        val name: String? = null\n",
    "    )\n",
    "}\n",
    "\n",
    "val person = ValueObject.Person(id = ValueObject.PersonId(1))\n",
    "\n",
    "val objectMapper = jacksonObjectMapper()\n",
    "println(objectMapper.writeValueAsString(person))\n",
    "println(objectMapper.readValue<ValueObject.Person>(\"\"\"{\"personId\":1}\"\"\", ValueObject.Person::class.java))\n"
   ],
   "outputs": [
    {
     "name": "stdout",
     "output_type": "stream",
     "text": [
      "{\"personId\":1,\"name\":null}\n",
      "Person(personId=PersonId(value=1), name=null)\n"
     ]
    }
   ],
   "execution_count": 19
  },
  {
   "metadata": {
    "ExecuteTime": {
     "end_time": "2024-12-05T12:34:27.627782372Z",
     "start_time": "2024-12-05T12:34:27.469597918Z"
    }
   },
   "cell_type": "code",
   "source": [
    "import com.fasterxml.jackson.module.kotlin.jacksonObjectMapper\n",
    "\n",
    "object InlineValue {\n",
    "\n",
    "    @JvmInline\n",
    "    value class PersonId(val value: Int)\n",
    "\n",
    "    data class Person(\n",
    "        val id: PersonId,\n",
    "        val name: String? = null\n",
    "    )\n",
    "\n",
    "}\n",
    "val person = InlineValue.Person(id = InlineValue.PersonId(1))\n",
    "\n",
    "val objectMapper = jacksonObjectMapper()\n",
    "println(objectMapper.writeValueAsString(person))"
   ],
   "outputs": [
    {
     "name": "stdout",
     "output_type": "stream",
     "text": [
      "{\"id\":1,\"name\":null}\n"
     ]
    }
   ],
   "execution_count": 3
  }
 ],
 "metadata": {
  "kernelspec": {
   "display_name": "Kotlin",
   "language": "kotlin",
   "name": "kotlin"
  },
  "language_info": {
   "name": "kotlin",
   "version": "1.9.23",
   "mimetype": "text/x-kotlin",
   "file_extension": ".kt",
   "pygments_lexer": "kotlin",
   "codemirror_mode": "text/x-kotlin",
   "nbconvert_exporter": ""
  }
 },
 "nbformat": 4,
 "nbformat_minor": 0
}
