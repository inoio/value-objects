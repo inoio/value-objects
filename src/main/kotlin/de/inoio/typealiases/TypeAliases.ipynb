{
 "cells": [
  {
   "cell_type": "code",
   "metadata": {
    "collapsed": true,
    "ExecuteTime": {
     "end_time": "2024-12-05T18:19:26.626570409Z",
     "start_time": "2024-12-05T18:19:26.496875532Z"
    }
   },
   "source": [
    "\n",
    "typealias PersonIdT = Int\n",
    "typealias AgeT = Int\n",
    "\n",
    "\n",
    "fun update(personId: PersonIdT, age: AgeT) = println(\"updated Person $personId with age: $age\")\n",
    "\n",
    "val age: AgeT = 18\n",
    "val personId: PersonIdT = 42\n",
    "update(age=age, personId =personId)\n",
    "update(age=personId, personId=age)\n",
    "update(123, 456)"
   ],
   "outputs": [
    {
     "name": "stdout",
     "output_type": "stream",
     "text": [
      "updated Person 18 with age: 42\n",
      "updated Person 42 with age: 18\n",
      "updated Person 123 with age: 456\n"
     ]
    }
   ],
   "execution_count": 5
  }
 ],
 "metadata": {
  "kernelspec": {
   "display_name": "Kotlin",
   "language": "kotlin",
   "name": "kotlin"
  },
  "language_info": {
   "name": "kotlin",
   "version": "1.9.23",
   "mimetype": "text/x-kotlin",
   "file_extension": ".kt",
   "pygments_lexer": "kotlin",
   "codemirror_mode": "text/x-kotlin",
   "nbconvert_exporter": ""
  }
 },
 "nbformat": 4,
 "nbformat_minor": 0
}
